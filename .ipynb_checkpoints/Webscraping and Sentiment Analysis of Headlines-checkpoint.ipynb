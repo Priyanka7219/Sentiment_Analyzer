{
 "cells": [
  {
   "cell_type": "code",
   "execution_count": 283,
   "id": "5520e44d",
   "metadata": {},
   "outputs": [],
   "source": [
    "from bs4 import BeautifulSoup\n",
    "import requests\n",
    "import re\n",
    "import nltk\n",
    "import numpy as np \n",
    "import pandas as pd \n",
    "import seaborn as sns\n",
    "import matplotlib.pyplot as plt\n",
    "%matplotlib inline\n",
    "import random\n",
    "from wordcloud import WordCloud\n",
    "import os\n",
    "from textblob import TextBlob\n",
    "from pattern.en import sentiment\n",
    "import streamlit as st\n",
    "import datetime \n",
    "from datetime import date"
   ]
  },
  {
   "cell_type": "code",
   "execution_count": 261,
   "id": "99b2d167",
   "metadata": {},
   "outputs": [],
   "source": [
    "# nltk.download([\n",
    "#      \"names\",\n",
    "#      \"stopwords\",\n",
    "#      \"state_union\",\n",
    "#      \"twitter_samples\",\n",
    "#      \"movie_reviews\",\n",
    "#      \"averaged_perceptron_tagger\",\n",
    "#      \"vader_lexicon\",\n",
    "#      \"punkt\",\n",
    "#  ])"
   ]
  },
  {
   "cell_type": "code",
   "execution_count": 189,
   "id": "dd2ca573",
   "metadata": {},
   "outputs": [],
   "source": [
    "url_usnews = \"https://www.usnews.com/\"\n",
    "html_tag_us = 'Box-w0dun1-0 ArmRestTopStories__Part-s0vo7p-1 erkdnc biVKSR'\n",
    "html_tag_us1 = 'Box-w0dun1-0 ArmRestTopStories__Container-s0vo7p-0 dWWnRo jkIDND'\n",
    "html_tag_us2 = 'BoxFeed__Container-jz7vbv-0 kCAxPf'\n",
    "my_header = {'User-Agent': 'Mozilla/5.0 (Windows NT 10.0; Win64; x64) AppleWebKit/537.36 (KHTML, like Gecko) Chrome/109.0.0.0 Safari/537.36'}\n",
    "\n",
    "page_usnews = requests.get(url_usnews, headers = my_header)\n",
    "soup_usnews = BeautifulSoup(page_usnews.text, 'lxml')\n",
    "content_usnews = soup_usnews.findAll('div', attrs = {'class': html_tag_us2})\n"
   ]
  },
  {
   "cell_type": "code",
   "execution_count": 191,
   "id": "9128e020",
   "metadata": {
    "scrolled": true
   },
   "outputs": [
    {
     "data": {
      "text/plain": [
       "[<div class=\"BoxFeed__Container-jz7vbv-0 kCAxPf\" spacing=\"5\"><div class=\"Box-w0dun1-0 BoxFeed__Tiles-jz7vbv-1 eLivRJ jDlzke\" spacing=\"5\"><div class=\"Box-w0dun1-0 ZUkgD\"><p class=\"Heading-sc-1w5xk2o-0 Kicker__KickerBlock-k30x22-0 cyfevJ hvtRvH\"><a class=\"Anchor-byh49a-0 Kicker__KickerAnchor-k30x22-1 PlBer bpOKWX\" href=\"https://www.usnews.com/news/world\">World</a></p><div class=\"Box-w0dun1-0 ListBox__Content-sc-10q7qch-0 dWWnRo gibkrk\"><p class=\"Paragraph-sc-1iyax29-0 gbfwFt\"><a class=\"Anchor-byh49a-0 jgdIrj\" href=\"https://www.usnews.com/news/world/articles/2023-02-12/town-in-north-cyprus-buries-last-of-high-school-volleyball-team-killed-in-quake\">Town in North Cyprus Buries Last of High School Volleyball Team Killed in Quake</a></p><p class=\"Paragraph-sc-1iyax29-0 gbfwFt\"><a class=\"Anchor-byh49a-0 jgdIrj\" href=\"https://www.usnews.com/news/world/articles/2023-02-12/after-quake-syrian-schools-silent-as-teachers-students-perish\">After Quake, Syrian Schools Silent as Teachers, Students Perish</a></p><p class=\"Paragraph-sc-1iyax29-0 lNNvk\"><a class=\"Anchor-byh49a-0 jgdIrj\" href=\"https://www.usnews.com/news/world/articles/2023-02-12/spain-hundreds-of-thousands-march-for-madrids-healthcare\">Spain: Hundreds of Thousands March for Madrid's Healthcare</a></p></div></div><div class=\"Box-w0dun1-0 ZUkgD\"><p class=\"Heading-sc-1w5xk2o-0 Kicker__KickerBlock-k30x22-0 cyfevJ hvtRvH\"><a class=\"Anchor-byh49a-0 Kicker__KickerAnchor-k30x22-1 PlBer bpOKWX\" href=\"https://www.usnews.com/news/political-news\">Politics</a></p><div class=\"Box-w0dun1-0 ListBox__Content-sc-10q7qch-0 dWWnRo gibkrk\"><p class=\"Paragraph-sc-1iyax29-0 gbfwFt\"><a class=\"Anchor-byh49a-0 jgdIrj\" href=\"https://www.usnews.com/news/politics/articles/2023-02-12/sen-schumer-says-2-downed-objects-believed-to-be-balloons\">Sen. Schumer Says 2 Downed Objects Believed to Be Balloons</a></p><p class=\"Paragraph-sc-1iyax29-0 gbfwFt\"><a class=\"Anchor-byh49a-0 jgdIrj\" href=\"https://www.usnews.com/news/best-states/wisconsin/articles/2023-02-12/gop-election-tactics-no-surprise-to-wisconsins-black-voters\">GOP Election Tactics No Surprise to Wisconsin's Black Voters</a></p><p class=\"Paragraph-sc-1iyax29-0 lNNvk\"><a class=\"Anchor-byh49a-0 jgdIrj\" href=\"https://www.usnews.com/news/politics/articles/2023-02-12/army-sees-safety-not-wokeness-as-top-recruiting-obstacle\">Army Sees Safety, Not 'Wokeness,' as Top Recruiting Obstacle</a></p></div></div><div class=\"Box-w0dun1-0 ZUkgD\"><p class=\"Heading-sc-1w5xk2o-0 Kicker__KickerBlock-k30x22-0 cyfevJ hvtRvH\"><a class=\"Anchor-byh49a-0 Kicker__KickerAnchor-k30x22-1 PlBer bpOKWX\" href=\"https://www.usnews.com/news/business\">Business</a></p><div class=\"Box-w0dun1-0 ListBox__Content-sc-10q7qch-0 dWWnRo gibkrk\"><p class=\"Paragraph-sc-1iyax29-0 gbfwFt\"><a class=\"Anchor-byh49a-0 jgdIrj\" href=\"https://www.usnews.com/news/business/articles/2023-02-12/in-mexico-us-complaints-help-union-organizing-efforts\">In Mexico, US Complaints Help Union Organizing Efforts</a></p><p class=\"Paragraph-sc-1iyax29-0 gbfwFt\"><a class=\"Anchor-byh49a-0 jgdIrj\" href=\"https://www.usnews.com/news/best-states/pennsylvania/articles/2023-02-12/candy-firm-fined-after-2-workers-fall-into-vat-of-chocolate\">Mars Wrigley Fined After Workers Fall Into Vat of Chocolate</a></p><p class=\"Paragraph-sc-1iyax29-0 lNNvk\"><a class=\"Anchor-byh49a-0 jgdIrj\" href=\"https://www.usnews.com/news/business/articles/2023-02-11/fundraisers-for-syria-turkey-earthquake-try-to-deliver-aid\">Fundraisers for Syria, Turkey Earthquake Try to Deliver Aid</a></p></div></div><div class=\"Box-w0dun1-0 ZUkgD\"><p class=\"Heading-sc-1w5xk2o-0 Kicker__KickerBlock-k30x22-0 cyfevJ hvtRvH\"><a class=\"Anchor-byh49a-0 Kicker__KickerAnchor-k30x22-1 PlBer bpOKWX\" href=\"https://www.usnews.com/news/health-news\">Health</a></p><div class=\"Box-w0dun1-0 ListBox__Content-sc-10q7qch-0 dWWnRo gibkrk\"><p class=\"Paragraph-sc-1iyax29-0 gbfwFt\"><a class=\"Anchor-byh49a-0 jgdIrj\" href=\"https://www.usnews.com/news/world/articles/2023-02-10/health-crisis-leads-scores-of-yanomami-to-roam-the-streets\">Health Crisis Leads Scores of Yanomami to Roam the Streets</a></p><p class=\"Paragraph-sc-1iyax29-0 gbfwFt\"><a class=\"Anchor-byh49a-0 jgdIrj\" href=\"https://www.usnews.com/news/health-news/articles/2023-02-10/florida-doctors-board-tightens-ban-on-gender-affirming-care\">Florida Doctors' Board Tightens Ban on Gender-Affirming Care</a></p><p class=\"Paragraph-sc-1iyax29-0 lNNvk\"><a class=\"Anchor-byh49a-0 jgdIrj\" href=\"https://www.usnews.com/news/health-news/articles/2023-02-10/florida-backs-off-athlete-menstrual-data-but-debate-lingers\">Florida Backs off Athlete Menstrual Data, but Debate Lingers</a></p></div></div><div class=\"Box-w0dun1-0 ZUkgD\"><p class=\"Heading-sc-1w5xk2o-0 Kicker__KickerBlock-k30x22-0 cyfevJ hvtRvH\"><a class=\"Anchor-byh49a-0 Kicker__KickerAnchor-k30x22-1 PlBer bpOKWX\" href=\"https://www.usnews.com/science/news\">Science</a></p><div class=\"Box-w0dun1-0 ListBox__Content-sc-10q7qch-0 dWWnRo gibkrk\"><p class=\"Paragraph-sc-1iyax29-0 gbfwFt\"><a class=\"Anchor-byh49a-0 jgdIrj\" href=\"https://www.usnews.com/news/news/articles/2023-02-11/russian-spacecraft-loses-pressure-station-crew-safe\">Russian Spacecraft Leaks Coolant, Station Crew Reported Safe</a></p><p class=\"Paragraph-sc-1iyax29-0 gbfwFt\"><a class=\"Anchor-byh49a-0 jgdIrj\" href=\"https://www.usnews.com/news/best-states/new-mexico/articles/2023-02-10/us-takes-another-step-toward-gearing-up-nuclear-pit-factory\">US Takes Another Step Toward Gearing up Nuclear Pit Factory</a></p><p class=\"Paragraph-sc-1iyax29-0 lNNvk\"><a class=\"Anchor-byh49a-0 jgdIrj\" href=\"https://www.usnews.com/news/best-states/nevada/articles/2023-02-10/dont-feed-the-bears-but-birds-ok-new-tahoe-research-shows\">Don't Feed the Bears! but Birds OK, New Tahoe Research Shows</a></p></div></div><div class=\"Box-w0dun1-0 ZUkgD\"><p class=\"Heading-sc-1w5xk2o-0 Kicker__KickerBlock-k30x22-0 cyfevJ hvtRvH\"><a class=\"Anchor-byh49a-0 Kicker__KickerAnchor-k30x22-1 PlBer bpOKWX\" href=\"https://www.usnews.com/news/offbeat\">Offbeat</a></p><div class=\"Box-w0dun1-0 ListBox__Content-sc-10q7qch-0 dWWnRo gibkrk\"><p class=\"Paragraph-sc-1iyax29-0 gbfwFt\"><a class=\"Anchor-byh49a-0 jgdIrj\" href=\"https://www.usnews.com/news/offbeat/articles/2023-02-11/auburn-student-wins-car-in-a-long-putt-contest-at-bama-game\">Auburn Student Wins Car in a Long-Putt Contest at Bama Game</a></p><p class=\"Paragraph-sc-1iyax29-0 gbfwFt\"><a class=\"Anchor-byh49a-0 jgdIrj\" href=\"https://www.usnews.com/news/best-states/wisconsin/articles/2023-02-11/harley-davidson-from-1908-becomes-priciest-bike-at-auction\">Harley-Davidson From 1908 Becomes Priciest Bike at Auction</a></p><p class=\"Paragraph-sc-1iyax29-0 lNNvk\"><a class=\"Anchor-byh49a-0 jgdIrj\" href=\"https://www.usnews.com/news/offbeat/articles/2023-02-11/emu-escape-flightless-giant-gets-loose-in-massachusetts\">Emu Escape: Flightless Giant Gets Loose in Massachusetts</a></p></div></div><div class=\"Box-w0dun1-0 ZUkgD\"><p class=\"Heading-sc-1w5xk2o-0 Kicker__KickerBlock-k30x22-0 cyfevJ hvtRvH\"><a class=\"Anchor-byh49a-0 Kicker__KickerAnchor-k30x22-1 PlBer bpOKWX\" href=\"https://www.usnews.com/news/us\">U.S. News® </a></p><div class=\"Box-w0dun1-0 ListBox__Content-sc-10q7qch-0 dWWnRo gibkrk\"><p class=\"Paragraph-sc-1iyax29-0 gbfwFt\"><a class=\"Anchor-byh49a-0 jgdIrj\" href=\"https://www.usnews.com/news/best-states/louisiana/articles/2023-02-12/arrests-made-in-louisiana-mass-shooting-that-wounded-12\">Arrests Made in Louisiana Mass Shooting That Wounded 12</a></p><p class=\"Paragraph-sc-1iyax29-0 gbfwFt\"><a class=\"Anchor-byh49a-0 jgdIrj\" href=\"https://www.usnews.com/news/us/articles/2023-02-11/biden-lauds-bipartisan-progress-at-dinner-with-democratic-republican-governors\">Biden Lauds 'Bipartisan Progress' as He Dines With Governors</a></p><p class=\"Paragraph-sc-1iyax29-0 lNNvk\"><a class=\"Anchor-byh49a-0 jgdIrj\" href=\"https://www.usnews.com/news/us/articles/2023-02-11/california-2024-us-senate-contest-kicks-off-at-furious-pace\">California 2024 US Senate Contest Kicks off at Furious Pace</a></p></div></div><div class=\"Box-w0dun1-0 ZUkgD\"><p class=\"Heading-sc-1w5xk2o-0 Kicker__KickerBlock-k30x22-0 cyfevJ hvtRvH\"><a class=\"Anchor-byh49a-0 Kicker__KickerAnchor-k30x22-1 PlBer bpOKWX\" href=\"https://www.usnews.com/news/entertainment\">Entertainment</a></p><div class=\"Box-w0dun1-0 ListBox__Content-sc-10q7qch-0 dWWnRo gibkrk\"><p class=\"Paragraph-sc-1iyax29-0 gbfwFt\"><a class=\"Anchor-byh49a-0 jgdIrj\" href=\"https://www.usnews.com/news/entertainment/articles/2023-02-12/magic-mikes-last-dance-wins-super-bowl-weekend-box-office\">‘Magic Mike's Last Dance' Wins Super Bowl Weekend Box Office</a></p><p class=\"Paragraph-sc-1iyax29-0 gbfwFt\"><a class=\"Anchor-byh49a-0 jgdIrj\" href=\"https://www.usnews.com/news/entertainment/articles/2023-02-12/sergio-hudson-delivers-colorful-90s-celebration-at-nyfw\">Sergio Hudson Delivers Colorful ‘90s Celebration at NYFW</a></p><p class=\"Paragraph-sc-1iyax29-0 lNNvk\"><a class=\"Anchor-byh49a-0 jgdIrj\" href=\"https://www.usnews.com/news/entertainment/articles/2023-02-11/proenza-schouler-debut-effortlessly-cool-looks-at-nyfw\">Proenza Schouler Debut Effortlessly Cool Looks at NYFW</a></p></div></div><div class=\"Box-w0dun1-0 ZUkgD\"><p class=\"Heading-sc-1w5xk2o-0 Kicker__KickerBlock-k30x22-0 cyfevJ hvtRvH\"><a class=\"Anchor-byh49a-0 Kicker__KickerAnchor-k30x22-1 PlBer bpOKWX\" href=\"https://www.usnews.com/news/sports\">Sports</a></p><div class=\"Box-w0dun1-0 ListBox__Content-sc-10q7qch-0 dWWnRo gibkrk\"><p class=\"Paragraph-sc-1iyax29-0 gbfwFt\"><a class=\"Anchor-byh49a-0 jgdIrj\" href=\"https://www.usnews.com/news/sports/articles/2023-02-12/super-bowl-week-was-back-to-its-normal-wildness-this-year\">Super Bowl Week Was Back to Its Normal Wildness This Year</a></p><p class=\"Paragraph-sc-1iyax29-0 gbfwFt\"><a class=\"Anchor-byh49a-0 jgdIrj\" href=\"https://www.usnews.com/news/sports/articles/2023-02-12/swiss-skier-odermatt-beats-kilde-for-downhill-gold-at-worlds\">Odermatt Draws Federer Comparison After Downhill Gold</a></p><p class=\"Paragraph-sc-1iyax29-0 lNNvk\"><a class=\"Anchor-byh49a-0 jgdIrj\" href=\"https://www.usnews.com/news/sports/articles/2023-02-12/iocs-bach-says-olympics-on-historys-side-in-russia-issue\">IOC's Bach Says Olympics on History's Side in Russia Issue</a></p></div></div></div></div>]"
      ]
     },
     "execution_count": 191,
     "metadata": {},
     "output_type": "execute_result"
    }
   ],
   "source": [
    "content_usnews"
   ]
  },
  {
   "cell_type": "code",
   "execution_count": 204,
   "id": "c46d1c3e",
   "metadata": {},
   "outputs": [
    {
     "name": "stdout",
     "output_type": "stream",
     "text": [
      "None\n"
     ]
    }
   ],
   "source": [
    "content_usnews[0].find('a').find('a', attrs = {'class': 'Anchor-byh49a-0 jgdIrj'})"
   ]
  },
  {
   "cell_type": "code",
   "execution_count": 217,
   "id": "b619d066",
   "metadata": {},
   "outputs": [],
   "source": [
    "top_stories = []\n",
    "# for i in range(len(content_usnews[0].findAll('h3'))):\n",
    "#     top_stories.append(content_usnews[0].findAll('h3')[i].text)\n",
    "# for i in range(len(content_usnews[0].findAll('p'))):\n",
    "#     top_stories.append(content_usnews[0].findAll('p')[i].text)"
   ]
  },
  {
   "cell_type": "code",
   "execution_count": 218,
   "id": "31fd5579",
   "metadata": {},
   "outputs": [],
   "source": [
    "for i in range(len(content_usnews[0].findAll('a'))):\n",
    "    if(content_usnews[0].findAll('a')[i].text not in ['World', 'Politics','Business', \n",
    "                                                       'Health', 'Science', 'Offbeat',  'U.S. News® ', \n",
    "                                                       'Entertainment', 'Sports' ]):\n",
    "        top_stories.append(content_usnews[0].findAll('a')[i].text)"
   ]
  },
  {
   "cell_type": "code",
   "execution_count": 219,
   "id": "6c5ecab2",
   "metadata": {},
   "outputs": [
    {
     "data": {
      "text/plain": [
       "['Town in North Cyprus Buries Last of High School Volleyball Team Killed in Quake',\n",
       " 'After Quake, Syrian Schools Silent as Teachers, Students Perish',\n",
       " \"Spain: Hundreds of Thousands March for Madrid's Healthcare\",\n",
       " 'Sen. Schumer Says 2 Downed Objects Believed to Be Balloons',\n",
       " \"GOP Election Tactics No Surprise to Wisconsin's Black Voters\",\n",
       " \"Army Sees Safety, Not 'Wokeness,' as Top Recruiting Obstacle\",\n",
       " 'In Mexico, US Complaints Help Union Organizing Efforts',\n",
       " 'Mars Wrigley Fined After Workers Fall Into Vat of Chocolate',\n",
       " 'Fundraisers for Syria, Turkey Earthquake Try to Deliver Aid',\n",
       " 'Health Crisis Leads Scores of Yanomami to Roam the Streets',\n",
       " \"Florida Doctors' Board Tightens Ban on Gender-Affirming Care\",\n",
       " 'Florida Backs off Athlete Menstrual Data, but Debate Lingers',\n",
       " 'Russian Spacecraft Leaks Coolant, Station Crew Reported Safe',\n",
       " 'US Takes Another Step Toward Gearing up Nuclear Pit Factory',\n",
       " \"Don't Feed the Bears! but Birds OK, New Tahoe Research Shows\",\n",
       " 'Auburn Student Wins Car in a Long-Putt Contest at Bama Game',\n",
       " 'Harley-Davidson From 1908 Becomes Priciest Bike at Auction',\n",
       " 'Emu Escape: Flightless Giant Gets Loose in Massachusetts',\n",
       " 'Arrests Made in Louisiana Mass Shooting That Wounded 12',\n",
       " \"Biden Lauds 'Bipartisan Progress' as He Dines With Governors\",\n",
       " 'California 2024 US Senate Contest Kicks off at Furious Pace',\n",
       " \"‘Magic Mike's Last Dance' Wins Super Bowl Weekend Box Office\",\n",
       " 'Sergio Hudson Delivers Colorful ‘90s Celebration at NYFW',\n",
       " 'Proenza Schouler Debut Effortlessly Cool Looks at NYFW',\n",
       " 'Super Bowl Week Was Back to Its Normal Wildness This Year',\n",
       " 'Odermatt Draws Federer Comparison After Downhill Gold',\n",
       " \"IOC's Bach Says Olympics on History's Side in Russia Issue\"]"
      ]
     },
     "execution_count": 219,
     "metadata": {},
     "output_type": "execute_result"
    }
   ],
   "source": [
    "top_stories"
   ]
  },
  {
   "cell_type": "markdown",
   "id": "e4f5ff2a",
   "metadata": {},
   "source": [
    "# Sentiment Analysis"
   ]
  },
  {
   "cell_type": "code",
   "execution_count": 224,
   "id": "5dd6f4be",
   "metadata": {},
   "outputs": [],
   "source": [
    "from nltk.sentiment import SentimentIntensityAnalyzer\n",
    "\n",
    "results = []\n",
    "for line in top_stories:\n",
    "    pol_score = sia.polarity_scores(line)\n",
    "    pol_score['headline'] = line\n",
    "    results.append(pol_score)\n"
   ]
  },
  {
   "cell_type": "code",
   "execution_count": 226,
   "id": "0e5e0a7b",
   "metadata": {},
   "outputs": [],
   "source": [
    "df = pd.DataFrame.from_records(results)"
   ]
  },
  {
   "cell_type": "code",
   "execution_count": 228,
   "id": "cb8f0e3a",
   "metadata": {},
   "outputs": [],
   "source": [
    "df['label'] = 0\n",
    "df.loc[df['compound'] > 0.2, 'label'] = 1\n",
    "df.loc[df['compound'] < -0.1, 'label'] = -1"
   ]
  },
  {
   "cell_type": "code",
   "execution_count": 285,
   "id": "c78dfa69",
   "metadata": {},
   "outputs": [],
   "source": [
    "df['scraped_date'] = date.today()"
   ]
  },
  {
   "cell_type": "code",
   "execution_count": 287,
   "id": "e32efb9a",
   "metadata": {},
   "outputs": [],
   "source": [
    "df = df.reindex(columns=['scraped_date','headline','neg', 'neu', 'pos', 'compound', 'label'])"
   ]
  },
  {
   "cell_type": "code",
   "execution_count": 294,
   "id": "be54d897",
   "metadata": {},
   "outputs": [],
   "source": [
    "df.rename(columns = {'neg':'negative', 'neu':'neutral', 'pos':'positive'}, inplace = True)\n",
    "df.to_csv('usnews.csv', index=False)"
   ]
  },
  {
   "cell_type": "code",
   "execution_count": 167,
   "id": "f6d2f8c7",
   "metadata": {},
   "outputs": [
    {
     "data": {
      "image/png": "[encoded data removed]",
      "text/plain": [
       "<Figure size 576x576 with 1 Axes>"
      ]
     },
     "metadata": {
      "needs_background": "light"
     },
     "output_type": "display_data"
    }
   ],
   "source": [
    "fig, ax = plt.subplots(figsize=(8, 8))\n",
    "\n",
    "counts = df.label.value_counts(normalize=True) * 100\n",
    "\n",
    "sns.barplot(x=counts.index, y=counts, ax=ax)\n",
    "\n",
    "ax.set_xticklabels(['Negative', 'Neutral', 'Positive'])\n",
    "ax.set_ylabel(\"Percentage\")\n",
    "\n",
    "plt.show()"
   ]
  },
  {
   "cell_type": "code",
   "execution_count": 249,
   "id": "1d6e8007",
   "metadata": {},
   "outputs": [],
   "source": [
    "#Creating the tokenizer\n",
    "tokenizer = nltk.tokenize.RegexpTokenizer(r'\\s', gaps=True)"
   ]
  },
  {
   "cell_type": "code",
   "execution_count": 250,
   "id": "5be40ee0",
   "metadata": {},
   "outputs": [],
   "source": [
    "def process_text(top_stories):\n",
    "    tokens = []\n",
    "    for line in top_stories:\n",
    "        toks = tokenizer.tokenize(line)\n",
    "        toks = [t.lower() for t in toks if t.lower() not in stopwords]\n",
    "        tokens.extend(toks)\n",
    "    \n",
    "    return tokens"
   ]
  },
  {
   "cell_type": "code",
   "execution_count": 251,
   "id": "b57fe6fe",
   "metadata": {},
   "outputs": [
    {
     "data": {
      "text/plain": [
       "['Town in North Cyprus Buries Last of High School Volleyball Team Killed in Quake',\n",
       " 'After Quake, Syrian Schools Silent as Teachers, Students Perish',\n",
       " \"Spain: Hundreds of Thousands March for Madrid's Healthcare\",\n",
       " 'Sen. Schumer Says 2 Downed Objects Believed to Be Balloons',\n",
       " \"GOP Election Tactics No Surprise to Wisconsin's Black Voters\",\n",
       " \"Army Sees Safety, Not 'Wokeness,' as Top Recruiting Obstacle\",\n",
       " 'In Mexico, US Complaints Help Union Organizing Efforts',\n",
       " 'Mars Wrigley Fined After Workers Fall Into Vat of Chocolate',\n",
       " 'Fundraisers for Syria, Turkey Earthquake Try to Deliver Aid',\n",
       " 'Health Crisis Leads Scores of Yanomami to Roam the Streets',\n",
       " \"Florida Doctors' Board Tightens Ban on Gender-Affirming Care\",\n",
       " 'Florida Backs off Athlete Menstrual Data, but Debate Lingers',\n",
       " 'Russian Spacecraft Leaks Coolant, Station Crew Reported Safe',\n",
       " 'US Takes Another Step Toward Gearing up Nuclear Pit Factory',\n",
       " \"Don't Feed the Bears! but Birds OK, New Tahoe Research Shows\",\n",
       " 'Auburn Student Wins Car in a Long-Putt Contest at Bama Game',\n",
       " 'Harley-Davidson From 1908 Becomes Priciest Bike at Auction',\n",
       " 'Emu Escape: Flightless Giant Gets Loose in Massachusetts',\n",
       " 'Arrests Made in Louisiana Mass Shooting That Wounded 12',\n",
       " \"Biden Lauds 'Bipartisan Progress' as He Dines With Governors\",\n",
       " 'California 2024 US Senate Contest Kicks off at Furious Pace',\n",
       " \"‘Magic Mike's Last Dance' Wins Super Bowl Weekend Box Office\",\n",
       " 'Sergio Hudson Delivers Colorful ‘90s Celebration at NYFW',\n",
       " 'Proenza Schouler Debut Effortlessly Cool Looks at NYFW',\n",
       " 'Super Bowl Week Was Back to Its Normal Wildness This Year',\n",
       " 'Odermatt Draws Federer Comparison After Downhill Gold',\n",
       " \"IOC's Bach Says Olympics on History's Side in Russia Issue\"]"
      ]
     },
     "execution_count": 251,
     "metadata": {},
     "output_type": "execute_result"
    }
   ],
   "source": [
    "top_stories"
   ]
  },
  {
   "cell_type": "code",
   "execution_count": 252,
   "id": "53253134",
   "metadata": {},
   "outputs": [
    {
     "data": {
      "text/plain": [
       "['town',\n",
       " 'north',\n",
       " 'cyprus',\n",
       " 'buries',\n",
       " 'last',\n",
       " 'high',\n",
       " 'school',\n",
       " 'volleyball',\n",
       " 'team',\n",
       " 'killed',\n",
       " 'quake',\n",
       " 'quake,',\n",
       " 'syrian',\n",
       " 'schools',\n",
       " 'silent',\n",
       " 'teachers,',\n",
       " 'students',\n",
       " 'perish',\n",
       " 'spain:',\n",
       " 'hundreds',\n",
       " 'thousands',\n",
       " 'march',\n",
       " \"madrid's\",\n",
       " 'healthcare',\n",
       " 'sen.',\n",
       " 'schumer',\n",
       " 'says',\n",
       " '2',\n",
       " 'downed',\n",
       " 'objects',\n",
       " 'believed',\n",
       " 'balloons',\n",
       " 'gop',\n",
       " 'election',\n",
       " 'tactics',\n",
       " 'surprise',\n",
       " \"wisconsin's\",\n",
       " 'black',\n",
       " 'voters',\n",
       " 'army',\n",
       " 'sees',\n",
       " 'safety,',\n",
       " \"'wokeness,'\",\n",
       " 'top',\n",
       " 'recruiting',\n",
       " 'obstacle',\n",
       " 'mexico,',\n",
       " 'us',\n",
       " 'complaints',\n",
       " 'help',\n",
       " 'union',\n",
       " 'organizing',\n",
       " 'efforts',\n",
       " 'mars',\n",
       " 'wrigley',\n",
       " 'fined',\n",
       " 'workers',\n",
       " 'fall',\n",
       " 'vat',\n",
       " 'chocolate',\n",
       " 'fundraisers',\n",
       " 'syria,',\n",
       " 'turkey',\n",
       " 'earthquake',\n",
       " 'try',\n",
       " 'deliver',\n",
       " 'aid',\n",
       " 'health',\n",
       " 'crisis',\n",
       " 'leads',\n",
       " 'scores',\n",
       " 'yanomami',\n",
       " 'roam',\n",
       " 'streets',\n",
       " 'florida',\n",
       " \"doctors'\",\n",
       " 'board',\n",
       " 'tightens',\n",
       " 'ban',\n",
       " 'gender-affirming',\n",
       " 'care',\n",
       " 'florida',\n",
       " 'backs',\n",
       " 'athlete',\n",
       " 'menstrual',\n",
       " 'data,',\n",
       " 'debate',\n",
       " 'lingers',\n",
       " 'russian',\n",
       " 'spacecraft',\n",
       " 'leaks',\n",
       " 'coolant,',\n",
       " 'station',\n",
       " 'crew',\n",
       " 'reported',\n",
       " 'safe',\n",
       " 'us',\n",
       " 'takes',\n",
       " 'another',\n",
       " 'step',\n",
       " 'toward',\n",
       " 'gearing',\n",
       " 'nuclear',\n",
       " 'pit',\n",
       " 'factory',\n",
       " 'feed',\n",
       " 'bears!',\n",
       " 'birds',\n",
       " 'ok,',\n",
       " 'new',\n",
       " 'tahoe',\n",
       " 'research',\n",
       " 'shows',\n",
       " 'auburn',\n",
       " 'student',\n",
       " 'wins',\n",
       " 'car',\n",
       " 'long-putt',\n",
       " 'contest',\n",
       " 'bama',\n",
       " 'game',\n",
       " 'harley-davidson',\n",
       " '1908',\n",
       " 'becomes',\n",
       " 'priciest',\n",
       " 'bike',\n",
       " 'auction',\n",
       " 'emu',\n",
       " 'escape:',\n",
       " 'flightless',\n",
       " 'giant',\n",
       " 'gets',\n",
       " 'loose',\n",
       " 'massachusetts',\n",
       " 'arrests',\n",
       " 'made',\n",
       " 'louisiana',\n",
       " 'mass',\n",
       " 'shooting',\n",
       " 'wounded',\n",
       " '12',\n",
       " 'biden',\n",
       " 'lauds',\n",
       " \"'bipartisan\",\n",
       " \"progress'\",\n",
       " 'dines',\n",
       " 'governors',\n",
       " 'california',\n",
       " '2024',\n",
       " 'us',\n",
       " 'senate',\n",
       " 'contest',\n",
       " 'kicks',\n",
       " 'furious',\n",
       " 'pace',\n",
       " '‘magic',\n",
       " \"mike's\",\n",
       " 'last',\n",
       " \"dance'\",\n",
       " 'wins',\n",
       " 'super',\n",
       " 'bowl',\n",
       " 'weekend',\n",
       " 'box',\n",
       " 'office',\n",
       " 'sergio',\n",
       " 'hudson',\n",
       " 'delivers',\n",
       " 'colorful',\n",
       " '‘90s',\n",
       " 'celebration',\n",
       " 'nyfw',\n",
       " 'proenza',\n",
       " 'schouler',\n",
       " 'debut',\n",
       " 'effortlessly',\n",
       " 'cool',\n",
       " 'looks',\n",
       " 'nyfw',\n",
       " 'super',\n",
       " 'bowl',\n",
       " 'week',\n",
       " 'back',\n",
       " 'normal',\n",
       " 'wildness',\n",
       " 'year',\n",
       " 'odermatt',\n",
       " 'draws',\n",
       " 'federer',\n",
       " 'comparison',\n",
       " 'downhill',\n",
       " 'gold',\n",
       " \"ioc's\",\n",
       " 'bach',\n",
       " 'says',\n",
       " 'olympics',\n",
       " \"history's\",\n",
       " 'side',\n",
       " 'russia',\n",
       " 'issue']"
      ]
     },
     "execution_count": 252,
     "metadata": {},
     "output_type": "execute_result"
    }
   ],
   "source": [
    "process_text(top_stories)"
   ]
  },
  {
   "cell_type": "code",
   "execution_count": 254,
   "id": "83582577",
   "metadata": {},
   "outputs": [],
   "source": [
    "stopwords = nltk.corpus.stopwords.words('english')"
   ]
  },
  {
   "cell_type": "code",
   "execution_count": 270,
   "id": "85ded46e",
   "metadata": {},
   "outputs": [],
   "source": [
    "freq_dist = nltk.FreqDist(process_text(top_stories))"
   ]
  },
  {
   "cell_type": "code",
   "execution_count": 273,
   "id": "fff47311",
   "metadata": {},
   "outputs": [
    {
     "ename": "ValueError",
     "evalue": "If using all scalar values, you must pass an index",
     "output_type": "error",
     "traceback": [
      "\u001b[1;31m---------------------------------------------------------------------------\u001b[0m",
      "\u001b[1;31mValueError\u001b[0m                                Traceback (most recent call last)",
      "Input \u001b[1;32mIn [273]\u001b[0m, in \u001b[0;36m<cell line: 1>\u001b[1;34m()\u001b[0m\n\u001b[1;32m----> 1\u001b[0m \u001b[43mpd\u001b[49m\u001b[38;5;241;43m.\u001b[39;49m\u001b[43mDataFrame\u001b[49m\u001b[43m(\u001b[49m\u001b[43mfreq_dist\u001b[49m\u001b[43m)\u001b[49m\n",
      "File \u001b[1;32m~\\anaconda3\\lib\\site-packages\\pandas\\core\\frame.py:636\u001b[0m, in \u001b[0;36mDataFrame.__init__\u001b[1;34m(self, data, index, columns, dtype, copy)\u001b[0m\n\u001b[0;32m    630\u001b[0m     mgr \u001b[38;5;241m=\u001b[39m \u001b[38;5;28mself\u001b[39m\u001b[38;5;241m.\u001b[39m_init_mgr(\n\u001b[0;32m    631\u001b[0m         data, axes\u001b[38;5;241m=\u001b[39m{\u001b[38;5;124m\"\u001b[39m\u001b[38;5;124mindex\u001b[39m\u001b[38;5;124m\"\u001b[39m: index, \u001b[38;5;124m\"\u001b[39m\u001b[38;5;124mcolumns\u001b[39m\u001b[38;5;124m\"\u001b[39m: columns}, dtype\u001b[38;5;241m=\u001b[39mdtype, copy\u001b[38;5;241m=\u001b[39mcopy\n\u001b[0;32m    632\u001b[0m     )\n\u001b[0;32m    634\u001b[0m \u001b[38;5;28;01melif\u001b[39;00m \u001b[38;5;28misinstance\u001b[39m(data, \u001b[38;5;28mdict\u001b[39m):\n\u001b[0;32m    635\u001b[0m     \u001b[38;5;66;03m# GH#38939 de facto copy defaults to False only in non-dict cases\u001b[39;00m\n\u001b[1;32m--> 636\u001b[0m     mgr \u001b[38;5;241m=\u001b[39m \u001b[43mdict_to_mgr\u001b[49m\u001b[43m(\u001b[49m\u001b[43mdata\u001b[49m\u001b[43m,\u001b[49m\u001b[43m \u001b[49m\u001b[43mindex\u001b[49m\u001b[43m,\u001b[49m\u001b[43m \u001b[49m\u001b[43mcolumns\u001b[49m\u001b[43m,\u001b[49m\u001b[43m \u001b[49m\u001b[43mdtype\u001b[49m\u001b[38;5;241;43m=\u001b[39;49m\u001b[43mdtype\u001b[49m\u001b[43m,\u001b[49m\u001b[43m \u001b[49m\u001b[43mcopy\u001b[49m\u001b[38;5;241;43m=\u001b[39;49m\u001b[43mcopy\u001b[49m\u001b[43m,\u001b[49m\u001b[43m \u001b[49m\u001b[43mtyp\u001b[49m\u001b[38;5;241;43m=\u001b[39;49m\u001b[43mmanager\u001b[49m\u001b[43m)\u001b[49m\n\u001b[0;32m    637\u001b[0m \u001b[38;5;28;01melif\u001b[39;00m \u001b[38;5;28misinstance\u001b[39m(data, ma\u001b[38;5;241m.\u001b[39mMaskedArray):\n\u001b[0;32m    638\u001b[0m     \u001b[38;5;28;01mimport\u001b[39;00m \u001b[38;5;21;01mnumpy\u001b[39;00m\u001b[38;5;21;01m.\u001b[39;00m\u001b[38;5;21;01mma\u001b[39;00m\u001b[38;5;21;01m.\u001b[39;00m\u001b[38;5;21;01mmrecords\u001b[39;00m \u001b[38;5;28;01mas\u001b[39;00m \u001b[38;5;21;01mmrecords\u001b[39;00m\n",
      "File \u001b[1;32m~\\anaconda3\\lib\\site-packages\\pandas\\core\\internals\\construction.py:502\u001b[0m, in \u001b[0;36mdict_to_mgr\u001b[1;34m(data, index, columns, dtype, typ, copy)\u001b[0m\n\u001b[0;32m    494\u001b[0m     arrays \u001b[38;5;241m=\u001b[39m [\n\u001b[0;32m    495\u001b[0m         x\n\u001b[0;32m    496\u001b[0m         \u001b[38;5;28;01mif\u001b[39;00m \u001b[38;5;129;01mnot\u001b[39;00m \u001b[38;5;28mhasattr\u001b[39m(x, \u001b[38;5;124m\"\u001b[39m\u001b[38;5;124mdtype\u001b[39m\u001b[38;5;124m\"\u001b[39m) \u001b[38;5;129;01mor\u001b[39;00m \u001b[38;5;129;01mnot\u001b[39;00m \u001b[38;5;28misinstance\u001b[39m(x\u001b[38;5;241m.\u001b[39mdtype, ExtensionDtype)\n\u001b[0;32m    497\u001b[0m         \u001b[38;5;28;01melse\u001b[39;00m x\u001b[38;5;241m.\u001b[39mcopy()\n\u001b[0;32m    498\u001b[0m         \u001b[38;5;28;01mfor\u001b[39;00m x \u001b[38;5;129;01min\u001b[39;00m arrays\n\u001b[0;32m    499\u001b[0m     ]\n\u001b[0;32m    500\u001b[0m     \u001b[38;5;66;03m# TODO: can we get rid of the dt64tz special case above?\u001b[39;00m\n\u001b[1;32m--> 502\u001b[0m \u001b[38;5;28;01mreturn\u001b[39;00m \u001b[43marrays_to_mgr\u001b[49m\u001b[43m(\u001b[49m\u001b[43marrays\u001b[49m\u001b[43m,\u001b[49m\u001b[43m \u001b[49m\u001b[43mcolumns\u001b[49m\u001b[43m,\u001b[49m\u001b[43m \u001b[49m\u001b[43mindex\u001b[49m\u001b[43m,\u001b[49m\u001b[43m \u001b[49m\u001b[43mdtype\u001b[49m\u001b[38;5;241;43m=\u001b[39;49m\u001b[43mdtype\u001b[49m\u001b[43m,\u001b[49m\u001b[43m \u001b[49m\u001b[43mtyp\u001b[49m\u001b[38;5;241;43m=\u001b[39;49m\u001b[43mtyp\u001b[49m\u001b[43m,\u001b[49m\u001b[43m \u001b[49m\u001b[43mconsolidate\u001b[49m\u001b[38;5;241;43m=\u001b[39;49m\u001b[43mcopy\u001b[49m\u001b[43m)\u001b[49m\n",
      "File \u001b[1;32m~\\anaconda3\\lib\\site-packages\\pandas\\core\\internals\\construction.py:120\u001b[0m, in \u001b[0;36marrays_to_mgr\u001b[1;34m(arrays, columns, index, dtype, verify_integrity, typ, consolidate)\u001b[0m\n\u001b[0;32m    117\u001b[0m \u001b[38;5;28;01mif\u001b[39;00m verify_integrity:\n\u001b[0;32m    118\u001b[0m     \u001b[38;5;66;03m# figure out the index, if necessary\u001b[39;00m\n\u001b[0;32m    119\u001b[0m     \u001b[38;5;28;01mif\u001b[39;00m index \u001b[38;5;129;01mis\u001b[39;00m \u001b[38;5;28;01mNone\u001b[39;00m:\n\u001b[1;32m--> 120\u001b[0m         index \u001b[38;5;241m=\u001b[39m \u001b[43m_extract_index\u001b[49m\u001b[43m(\u001b[49m\u001b[43marrays\u001b[49m\u001b[43m)\u001b[49m\n\u001b[0;32m    121\u001b[0m     \u001b[38;5;28;01melse\u001b[39;00m:\n\u001b[0;32m    122\u001b[0m         index \u001b[38;5;241m=\u001b[39m ensure_index(index)\n",
      "File \u001b[1;32m~\\anaconda3\\lib\\site-packages\\pandas\\core\\internals\\construction.py:664\u001b[0m, in \u001b[0;36m_extract_index\u001b[1;34m(data)\u001b[0m\n\u001b[0;32m    661\u001b[0m         \u001b[38;5;28;01mraise\u001b[39;00m \u001b[38;5;167;01mValueError\u001b[39;00m(\u001b[38;5;124m\"\u001b[39m\u001b[38;5;124mPer-column arrays must each be 1-dimensional\u001b[39m\u001b[38;5;124m\"\u001b[39m)\n\u001b[0;32m    663\u001b[0m \u001b[38;5;28;01mif\u001b[39;00m \u001b[38;5;129;01mnot\u001b[39;00m indexes \u001b[38;5;129;01mand\u001b[39;00m \u001b[38;5;129;01mnot\u001b[39;00m raw_lengths:\n\u001b[1;32m--> 664\u001b[0m     \u001b[38;5;28;01mraise\u001b[39;00m \u001b[38;5;167;01mValueError\u001b[39;00m(\u001b[38;5;124m\"\u001b[39m\u001b[38;5;124mIf using all scalar values, you must pass an index\u001b[39m\u001b[38;5;124m\"\u001b[39m)\n\u001b[0;32m    666\u001b[0m \u001b[38;5;28;01melif\u001b[39;00m have_series:\n\u001b[0;32m    667\u001b[0m     index \u001b[38;5;241m=\u001b[39m union_indexes(indexes)\n",
      "\u001b[1;31mValueError\u001b[0m: If using all scalar values, you must pass an index"
     ]
    }
   ],
   "source": []
  },
  {
   "cell_type": "code",
   "execution_count": 269,
   "id": "bb351658",
   "metadata": {},
   "outputs": [
    {
     "data": {
      "image/png": "[encoded data removed]",
      "text/plain": [
       "<Figure size 1152x720 with 1 Axes>"
      ]
     },
     "metadata": {
      "needs_background": "light"
     },
     "output_type": "display_data"
    },
    {
     "data": {
      "text/plain": [
       "<AxesSubplot:xlabel='Samples', ylabel='Counts'>"
      ]
     },
     "execution_count": 269,
     "metadata": {},
     "output_type": "execute_result"
    }
   ],
   "source": [
    "plt.subplots(figsize=(16,10))\n",
    "freq_dist.plot(20)"
   ]
  },
  {
   "cell_type": "code",
   "execution_count": null,
   "id": "e50e4924",
   "metadata": {},
   "outputs": [],
   "source": [
    "import numpy as np\n",
    "import pandas as pd\n",
    "import matplotlib.pyplot as plt\n",
    "\n",
    "from PIL import Image\n",
    "from wordcloud import WordCloud, STOPWORDS\n",
    "\n",
    "\n",
    "def main():\n",
    "    df = pd.read_csv('rleaves_clean.csv', encoding='utf-8')\n",
    "    wordcloud_text = ' '.join(df['raw'].tolist())\n",
    "    mask = np.array(Image.open('marijuana.png'))\n",
    "    wordcloud_user = WordCloud(width=300, height=200, background_color='rgba(255, 255, 255, 0)', mode='RGBA', colormap='tab10', collocations=False, mask=mask, include_numbers=True)\n",
    "    wordcloud_user.generate(wordcloud_text)\n",
    "    #wordcloud_user.to_file(\"wordcloud_user_leaves.png\") # saves the image\n",
    "    plot_cloud(wordcloud_user)\n",
    "\n",
    "def plot_cloud(wordcloud):\n",
    "    plt.figure(figsize=(40, 30))\n",
    "    plt.imshow(wordcloud, interpolation='bilinear')\n",
    "    plt.axis('off')\n",
    "\n",
    "if __name__ == \"__main__\":\n",
    "    main()"
   ]
  },
  {
   "cell_type": "markdown",
   "id": "fd733658",
   "metadata": {},
   "source": [
    "# Archive"
   ]
  },
  {
   "cell_type": "code",
   "execution_count": 264,
   "id": "2eab0893",
   "metadata": {},
   "outputs": [],
   "source": [
    "textblob_sentiment=[]\n",
    "for s in top_stories:\n",
    "    txt= TextBlob(s)\n",
    "    a= txt.sentiment.polarity\n",
    "    b= txt.sentiment.subjectivity\n",
    "    textblob_sentiment.append([s,a,b])"
   ]
  },
  {
   "cell_type": "code",
   "execution_count": 231,
   "id": "e3805968",
   "metadata": {
    "scrolled": false
   },
   "outputs": [
    {
     "data": {
      "text/html": [
       "<div>\n",
       "<style scoped>\n",
       "    .dataframe tbody tr th:only-of-type {\n",
       "        vertical-align: middle;\n",
       "    }\n",
       "\n",
       "    .dataframe tbody tr th {\n",
       "        vertical-align: top;\n",
       "    }\n",
       "\n",
       "    .dataframe thead th {\n",
       "        text-align: right;\n",
       "    }\n",
       "</style>\n",
       "<table border=\"1\" class=\"dataframe\">\n",
       "  <thead>\n",
       "    <tr style=\"text-align: right;\">\n",
       "      <th></th>\n",
       "      <th>Sentence</th>\n",
       "      <th>Polarity</th>\n",
       "      <th>Subjectivity</th>\n",
       "    </tr>\n",
       "  </thead>\n",
       "  <tbody>\n",
       "    <tr>\n",
       "      <th>0</th>\n",
       "      <td>Town in North Cyprus Buries Last of High Schoo...</td>\n",
       "      <td>-0.013333</td>\n",
       "      <td>0.202222</td>\n",
       "    </tr>\n",
       "    <tr>\n",
       "      <th>1</th>\n",
       "      <td>After Quake, Syrian Schools Silent as Teachers...</td>\n",
       "      <td>0.000000</td>\n",
       "      <td>0.100000</td>\n",
       "    </tr>\n",
       "    <tr>\n",
       "      <th>2</th>\n",
       "      <td>Spain: Hundreds of Thousands March for Madrid'...</td>\n",
       "      <td>0.000000</td>\n",
       "      <td>0.000000</td>\n",
       "    </tr>\n",
       "    <tr>\n",
       "      <th>3</th>\n",
       "      <td>Sen. Schumer Says 2 Downed Objects Believed to...</td>\n",
       "      <td>0.000000</td>\n",
       "      <td>0.000000</td>\n",
       "    </tr>\n",
       "    <tr>\n",
       "      <th>4</th>\n",
       "      <td>GOP Election Tactics No Surprise to Wisconsin'...</td>\n",
       "      <td>-0.166667</td>\n",
       "      <td>0.433333</td>\n",
       "    </tr>\n",
       "    <tr>\n",
       "      <th>5</th>\n",
       "      <td>Army Sees Safety, Not 'Wokeness,' as Top Recru...</td>\n",
       "      <td>0.500000</td>\n",
       "      <td>0.500000</td>\n",
       "    </tr>\n",
       "    <tr>\n",
       "      <th>6</th>\n",
       "      <td>In Mexico, US Complaints Help Union Organizing...</td>\n",
       "      <td>0.000000</td>\n",
       "      <td>0.000000</td>\n",
       "    </tr>\n",
       "    <tr>\n",
       "      <th>7</th>\n",
       "      <td>Mars Wrigley Fined After Workers Fall Into Vat...</td>\n",
       "      <td>0.000000</td>\n",
       "      <td>0.000000</td>\n",
       "    </tr>\n",
       "    <tr>\n",
       "      <th>8</th>\n",
       "      <td>Fundraisers for Syria, Turkey Earthquake Try t...</td>\n",
       "      <td>0.000000</td>\n",
       "      <td>0.000000</td>\n",
       "    </tr>\n",
       "    <tr>\n",
       "      <th>9</th>\n",
       "      <td>Health Crisis Leads Scores of Yanomami to Roam...</td>\n",
       "      <td>0.000000</td>\n",
       "      <td>0.000000</td>\n",
       "    </tr>\n",
       "    <tr>\n",
       "      <th>10</th>\n",
       "      <td>Florida Doctors' Board Tightens Ban on Gender-...</td>\n",
       "      <td>0.000000</td>\n",
       "      <td>0.000000</td>\n",
       "    </tr>\n",
       "    <tr>\n",
       "      <th>11</th>\n",
       "      <td>Florida Backs off Athlete Menstrual Data, but ...</td>\n",
       "      <td>0.000000</td>\n",
       "      <td>0.000000</td>\n",
       "    </tr>\n",
       "    <tr>\n",
       "      <th>12</th>\n",
       "      <td>Russian Spacecraft Leaks Coolant, Station Crew...</td>\n",
       "      <td>0.250000</td>\n",
       "      <td>0.250000</td>\n",
       "    </tr>\n",
       "    <tr>\n",
       "      <th>13</th>\n",
       "      <td>US Takes Another Step Toward Gearing up Nuclea...</td>\n",
       "      <td>0.000000</td>\n",
       "      <td>0.000000</td>\n",
       "    </tr>\n",
       "    <tr>\n",
       "      <th>14</th>\n",
       "      <td>Don't Feed the Bears! but Birds OK, New Tahoe ...</td>\n",
       "      <td>0.318182</td>\n",
       "      <td>0.477273</td>\n",
       "    </tr>\n",
       "    <tr>\n",
       "      <th>15</th>\n",
       "      <td>Auburn Student Wins Car in a Long-Putt Contest...</td>\n",
       "      <td>-0.050000</td>\n",
       "      <td>0.300000</td>\n",
       "    </tr>\n",
       "    <tr>\n",
       "      <th>16</th>\n",
       "      <td>Harley-Davidson From 1908 Becomes Priciest Bik...</td>\n",
       "      <td>0.000000</td>\n",
       "      <td>0.000000</td>\n",
       "    </tr>\n",
       "    <tr>\n",
       "      <th>17</th>\n",
       "      <td>Emu Escape: Flightless Giant Gets Loose in Mas...</td>\n",
       "      <td>-0.038462</td>\n",
       "      <td>0.634615</td>\n",
       "    </tr>\n",
       "    <tr>\n",
       "      <th>18</th>\n",
       "      <td>Arrests Made in Louisiana Mass Shooting That W...</td>\n",
       "      <td>0.000000</td>\n",
       "      <td>0.000000</td>\n",
       "    </tr>\n",
       "    <tr>\n",
       "      <th>19</th>\n",
       "      <td>Biden Lauds 'Bipartisan Progress' as He Dines ...</td>\n",
       "      <td>0.000000</td>\n",
       "      <td>0.000000</td>\n",
       "    </tr>\n",
       "    <tr>\n",
       "      <th>20</th>\n",
       "      <td>California 2024 US Senate Contest Kicks off at...</td>\n",
       "      <td>0.000000</td>\n",
       "      <td>0.000000</td>\n",
       "    </tr>\n",
       "    <tr>\n",
       "      <th>21</th>\n",
       "      <td>‘Magic Mike's Last Dance' Wins Super Bowl Week...</td>\n",
       "      <td>0.283333</td>\n",
       "      <td>0.483333</td>\n",
       "    </tr>\n",
       "    <tr>\n",
       "      <th>22</th>\n",
       "      <td>Sergio Hudson Delivers Colorful ‘90s Celebrati...</td>\n",
       "      <td>0.300000</td>\n",
       "      <td>0.400000</td>\n",
       "    </tr>\n",
       "    <tr>\n",
       "      <th>23</th>\n",
       "      <td>Proenza Schouler Debut Effortlessly Cool Looks...</td>\n",
       "      <td>0.350000</td>\n",
       "      <td>0.650000</td>\n",
       "    </tr>\n",
       "    <tr>\n",
       "      <th>24</th>\n",
       "      <td>Super Bowl Week Was Back to Its Normal Wildnes...</td>\n",
       "      <td>0.161111</td>\n",
       "      <td>0.438889</td>\n",
       "    </tr>\n",
       "    <tr>\n",
       "      <th>25</th>\n",
       "      <td>Odermatt Draws Federer Comparison After Downhi...</td>\n",
       "      <td>0.000000</td>\n",
       "      <td>0.000000</td>\n",
       "    </tr>\n",
       "    <tr>\n",
       "      <th>26</th>\n",
       "      <td>IOC's Bach Says Olympics on History's Side in ...</td>\n",
       "      <td>0.000000</td>\n",
       "      <td>0.000000</td>\n",
       "    </tr>\n",
       "  </tbody>\n",
       "</table>\n",
       "</div>"
      ],
      "text/plain": [
       "                                             Sentence  Polarity  Subjectivity\n",
       "0   Town in North Cyprus Buries Last of High Schoo... -0.013333      0.202222\n",
       "1   After Quake, Syrian Schools Silent as Teachers...  0.000000      0.100000\n",
       "2   Spain: Hundreds of Thousands March for Madrid'...  0.000000      0.000000\n",
       "3   Sen. Schumer Says 2 Downed Objects Believed to...  0.000000      0.000000\n",
       "4   GOP Election Tactics No Surprise to Wisconsin'... -0.166667      0.433333\n",
       "5   Army Sees Safety, Not 'Wokeness,' as Top Recru...  0.500000      0.500000\n",
       "6   In Mexico, US Complaints Help Union Organizing...  0.000000      0.000000\n",
       "7   Mars Wrigley Fined After Workers Fall Into Vat...  0.000000      0.000000\n",
       "8   Fundraisers for Syria, Turkey Earthquake Try t...  0.000000      0.000000\n",
       "9   Health Crisis Leads Scores of Yanomami to Roam...  0.000000      0.000000\n",
       "10  Florida Doctors' Board Tightens Ban on Gender-...  0.000000      0.000000\n",
       "11  Florida Backs off Athlete Menstrual Data, but ...  0.000000      0.000000\n",
       "12  Russian Spacecraft Leaks Coolant, Station Crew...  0.250000      0.250000\n",
       "13  US Takes Another Step Toward Gearing up Nuclea...  0.000000      0.000000\n",
       "14  Don't Feed the Bears! but Birds OK, New Tahoe ...  0.318182      0.477273\n",
       "15  Auburn Student Wins Car in a Long-Putt Contest... -0.050000      0.300000\n",
       "16  Harley-Davidson From 1908 Becomes Priciest Bik...  0.000000      0.000000\n",
       "17  Emu Escape: Flightless Giant Gets Loose in Mas... -0.038462      0.634615\n",
       "18  Arrests Made in Louisiana Mass Shooting That W...  0.000000      0.000000\n",
       "19  Biden Lauds 'Bipartisan Progress' as He Dines ...  0.000000      0.000000\n",
       "20  California 2024 US Senate Contest Kicks off at...  0.000000      0.000000\n",
       "21  ‘Magic Mike's Last Dance' Wins Super Bowl Week...  0.283333      0.483333\n",
       "22  Sergio Hudson Delivers Colorful ‘90s Celebrati...  0.300000      0.400000\n",
       "23  Proenza Schouler Debut Effortlessly Cool Looks...  0.350000      0.650000\n",
       "24  Super Bowl Week Was Back to Its Normal Wildnes...  0.161111      0.438889\n",
       "25  Odermatt Draws Federer Comparison After Downhi...  0.000000      0.000000\n",
       "26  IOC's Bach Says Olympics on History's Side in ...  0.000000      0.000000"
      ]
     },
     "execution_count": 231,
     "metadata": {},
     "output_type": "execute_result"
    }
   ],
   "source": [
    "df_textblob = pd.DataFrame(textblob_sentiment, columns =['Sentence', 'Polarity', 'Subjectivity'])\n",
    "df_textblob"
   ]
  },
  {
   "cell_type": "code",
   "execution_count": 74,
   "id": "f739fb42",
   "metadata": {
    "scrolled": true
   },
   "outputs": [
    {
     "data": {
      "text/plain": [
       "Text(0.5, 6.79999999999999, 'Sentence Polarity (Textblob)')"
      ]
     },
     "execution_count": 74,
     "metadata": {},
     "output_type": "execute_result"
    },
    {
     "data": {
      "image/png": "[encoded data removed]",
      "text/plain": [
       "<Figure size 648x360 with 1 Axes>"
      ]
     },
     "metadata": {
      "needs_background": "light"
     },
     "output_type": "display_data"
    }
   ],
   "source": [
    "sns.displot(df_textblob[\"Polarity\"], height= 5, aspect=1.8)\n",
    "plt.xlabel(\"Sentence Polarity (Textblob)\")"
   ]
  },
  {
   "cell_type": "code",
   "execution_count": 76,
   "id": "7a4f7b72",
   "metadata": {},
   "outputs": [
    {
     "data": {
      "text/plain": [
       "Text(0.5, 6.79999999999999, 'Sentence Subjectivity (Textblob)')"
      ]
     },
     "execution_count": 76,
     "metadata": {},
     "output_type": "execute_result"
    },
    {
     "data": {
      "image/png": "[encoded data removed]",
      "text/plain": [
       "<Figure size 648x360 with 1 Axes>"
      ]
     },
     "metadata": {
      "needs_background": "light"
     },
     "output_type": "display_data"
    }
   ],
   "source": [
    "sns.displot(df_textblob[\"Subjectivity\"], height= 5, aspect=1.8)\n",
    "plt.xlabel(\"Sentence Subjectivity (Textblob)\")"
   ]
  },
  {
   "cell_type": "code",
   "execution_count": null,
   "id": "7ee28197",
   "metadata": {},
   "outputs": [],
   "source": []
  },
  {
   "cell_type": "code",
   "execution_count": 111,
   "id": "e3e72fa0",
   "metadata": {},
   "outputs": [
    {
     "name": "stdout",
     "output_type": "stream",
     "text": [
      "U.S. Shoots Down Object Over Canada\n",
      "U.S. Tests ICBM Amid Nuclear Threats\n",
      "Biden Trip to Mark Ukraine Invasion\n",
      "McConnell Distances Party From Scott\n",
      "Another Looming Abortion Ruling\n",
      "Consumer Sentiment Improves In February\n",
      "The Road Map Out of the COVID Crisis\n"
     ]
    }
   ],
   "source": [
    "#Tokenizing the text\n",
    "tokens = []\n",
    "for i in top_stories:\n",
    "    tokens.append(tokenizer.tokenize(i))\n"
   ]
  },
  {
   "cell_type": "code",
   "execution_count": 116,
   "id": "bab7c560",
   "metadata": {},
   "outputs": [
    {
     "data": {
      "text/plain": [
       "'U.S.'"
      ]
     },
     "execution_count": 116,
     "metadata": {},
     "output_type": "execute_result"
    }
   ],
   "source": [
    "tokens[0][0]"
   ]
  },
  {
   "cell_type": "code",
   "execution_count": 120,
   "id": "32b9225e",
   "metadata": {},
   "outputs": [],
   "source": [
    "words = []\n",
    "# Looping through the tokens and make them lower case\n",
    "for i in tokens:\n",
    "    for word in i:\n",
    "        words.append(word.lower())"
   ]
  },
  {
   "cell_type": "code",
   "execution_count": 130,
   "id": "6c63253f",
   "metadata": {},
   "outputs": [],
   "source": [
    "words_new = []\n",
    "for word in words:\n",
    "    if word not in stopwords:\n",
    "        words_new.append(word)"
   ]
  }
 ],
 "metadata": {
  "kernelspec": {
   "display_name": "Python 3 (ipykernel)",
   "language": "python",
   "name": "python3"
  },
  "language_info": {
   "codemirror_mode": {
    "name": "ipython",
    "version": 3
   },
   "file_extension": ".py",
   "mimetype": "text/x-python",
   "name": "python",
   "nbconvert_exporter": "python",
   "pygments_lexer": "ipython3",
   "version": "3.9.12"
  }
 },
 "nbformat": 4,
 "nbformat_minor": 5
}
